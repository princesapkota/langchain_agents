{
  "nbformat": 4,
  "nbformat_minor": 0,
  "metadata": {
    "colab": {
      "provenance": [],
      "include_colab_link": true
    },
    "kernelspec": {
      "name": "python3",
      "display_name": "Python 3"
    },
    "language_info": {
      "name": "python"
    }
  },
  "cells": [
    {
      "cell_type": "markdown",
      "metadata": {
        "id": "view-in-github",
        "colab_type": "text"
      },
      "source": [
        "<a href=\"https://colab.research.google.com/github/princesapkota/langchain_agents/blob/main/langchain_agents.ipynb\" target=\"_parent\"><img src=\"https://colab.research.google.com/assets/colab-badge.svg\" alt=\"Open In Colab\"/></a>"
      ]
    },
    {
      "cell_type": "code",
      "execution_count": null,
      "metadata": {
        "id": "UC2QEmfUsebG",
        "collapsed": true
      },
      "outputs": [],
      "source": [
        "import os\n",
        "import shopify\n",
        "import pandas as pd\n",
        "from dotenv import load_dotenv,find_dotenv\n",
        "\n",
        "load_dotenv(find_dotenv())"
      ]
    },
    {
      "cell_type": "code",
      "source": [
        "# Function that extracts data from Shopify's REST API\n",
        "\n",
        "def get_data(object_name):\n",
        "    api_session = shopify.Session(os.getenv('MERCHANT'),'2023-04',os.getenv('SHOPIFY_TOKEN'))\n",
        "    shopify.ShopifyResource.activate_session(api_session)\n",
        "    all_data=[]\n",
        "    attribute=getattr(shopify,object_name)\n",
        "    data=attribute.find(since_id=0, limit=250)\n",
        "    for d in data:\n",
        "        all_data.append(d)\n",
        "    while data.has_next_page():\n",
        "        data=data.next_page()\n",
        "        for d in data:\n",
        "            all_data.append(d)\n",
        "    return all_data"
      ],
      "metadata": {
        "id": "zryIpW6NsoTm"
      },
      "execution_count": null,
      "outputs": []
    },
    {
      "cell_type": "code",
      "source": [
        "# Example: getting order data with the function\n",
        "order_data=get_data('Order')"
      ],
      "metadata": {
        "id": "wYZDVE1Zs_Xp"
      },
      "execution_count": null,
      "outputs": []
    },
    {
      "cell_type": "code",
      "source": [
        "# Import StructuredTool and ChatOpenAI needed for creating the agent based on GPT-4\n",
        "\n",
        "from langchain.tools.base import StructuredTool\n",
        "from langchain.chat_models import ChatOpenAI\n",
        "chat = ChatOpenAI(model_name=\"gpt-4\",temperature=0.2)"
      ],
      "metadata": {
        "id": "0LcZ_swFtJFO"
      },
      "execution_count": null,
      "outputs": []
    },
    {
      "cell_type": "code",
      "source": [
        "# Turn the get_data function into a new function that receives text and returns text and create a tool out of the new function\n",
        "\n",
        "from typing import Optional\n",
        "\n",
        "def get_shopify_insight(\n",
        "    shopify_object: Optional[str] = None\n",
        ") -> str:\n",
        "    \"\"\"Tool that counts the number of items for a given Shopify data object. Valid shopify_objects include \"Customer\", \"Order\", \"Product\" and \"Webhook\".\"\"\"\n",
        "    object_name=(shopify_object or \"Order\")\n",
        "    data= get_data(object_name)\n",
        "    return str(len(data))\n",
        "\n",
        "shopify_insights_tool = StructuredTool.from_function(get_shopify_insight)"
      ],
      "metadata": {
        "id": "yEapr2Djtakr"
      },
      "execution_count": null,
      "outputs": []
    },
    {
      "cell_type": "code",
      "source": [
        "# We can now call the tool and count items returned as a string\n",
        "\n",
        "shopify_insights_tool('Customer')"
      ],
      "metadata": {
        "id": "kDL3bL9Dtw1d"
      },
      "execution_count": null,
      "outputs": []
    },
    {
      "cell_type": "code",
      "source": [
        "# Create the agent based on the tool and the chatmodel\n",
        "\n",
        "from langchain.agents import initialize_agent, AgentType\n",
        "tools = [shopify_insights_tool]\n",
        "agent_chain = initialize_agent(tools,\n",
        "                               chat,\n",
        "                               agent=AgentType.STRUCTURED_CHAT_ZERO_SHOT_REACT_DESCRIPTION,\n",
        "                               verbose=True)"
      ],
      "metadata": {
        "id": "QRutmBzHt5w7"
      },
      "execution_count": null,
      "outputs": []
    },
    {
      "cell_type": "code",
      "source": [
        "# Run the agent\n",
        "\n",
        "agent_chain(\"Count the number of orders in the Shopify store\")\n"
      ],
      "metadata": {
        "id": "rIPTlBk4uF0Q"
      },
      "execution_count": null,
      "outputs": []
    }
  ]
}